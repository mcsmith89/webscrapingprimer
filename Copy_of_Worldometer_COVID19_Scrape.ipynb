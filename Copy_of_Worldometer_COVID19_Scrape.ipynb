{
  "nbformat": 4,
  "nbformat_minor": 0,
  "metadata": {
    "colab": {
      "name": "Copy of Worldometer COVID19 Scrape.ipynb",
      "provenance": [],
      "toc_visible": true,
      "include_colab_link": true
    },
    "kernelspec": {
      "name": "python3",
      "display_name": "Python 3"
    }
  },
  "cells": [
    {
      "cell_type": "markdown",
      "metadata": {
        "id": "view-in-github",
        "colab_type": "text"
      },
      "source": [
        "<a href=\"https://colab.research.google.com/github/mcsmith89/webscrapingprimer/blob/master/Copy_of_Worldometer_COVID19_Scrape.ipynb\" target=\"_parent\"><img src=\"https://colab.research.google.com/assets/colab-badge.svg\" alt=\"Open In Colab\"/></a>"
      ]
    },
    {
      "cell_type": "markdown",
      "metadata": {
        "id": "7RyOhSZaiM7R",
        "colab_type": "text"
      },
      "source": [
        "# Web Scraping in Python\n",
        "COVID19 Stats by Country: [worldometers.info](https://www.worldometers.info/coronavirus/)\n",
        "\n",
        "---\n",
        "\n",
        "*   [Selector Cheatsheet](https://devhints.io/xpath)\n",
        "*   [Beautiful Soup Docs](https://www.crummy.com/software/BeautifulSoup/bs4/doc/)\n",
        "*   [Pandas Docs](https://pandas.pydata.org/pandas-docs/stable/reference/api/pandas.DataFrame.drop.html)\n",
        "*   [Workshop Presentation](https://docs.google.com/presentation/d/1zHwfvTlk9vXFhiDdJSeFzasBZgwor1xM1wTiQH_qRDY/edit?usp=sharing)\n",
        "\n",
        "* Create Advanced Scrapers with [Scrapy](https://scrapy.org/)\n",
        "\n",
        "\n"
      ]
    },
    {
      "cell_type": "code",
      "metadata": {
        "id": "wYTYovEAVnQ7",
        "colab_type": "code",
        "colab": {}
      },
      "source": [
        "# Import necessary libraries\n",
        "\n",
        "import numpy as np\n",
        "import pandas as pd\n",
        "\n",
        "import requests\n",
        "from bs4 import BeautifulSoup"
      ],
      "execution_count": 0,
      "outputs": []
    },
    {
      "cell_type": "code",
      "metadata": {
        "id": "KrFhGpJXV7fv",
        "colab_type": "code",
        "colab": {}
      },
      "source": [
        "# Make a HTTP request for the webpage\n",
        "\n",
        "req = requests.get('https://www.worldometers.info/coronavirus/')"
      ],
      "execution_count": 0,
      "outputs": []
    },
    {
      "cell_type": "code",
      "metadata": {
        "id": "_CrRKOBsWK_K",
        "colab_type": "code",
        "colab": {}
      },
      "source": [
        "# Parse the raw HTML into a soup\n",
        "\n",
        "soup = BeautifulSoup(req.content)"
      ],
      "execution_count": 0,
      "outputs": []
    },
    {
      "cell_type": "code",
      "metadata": {
        "id": "lHPMjM2IWzkA",
        "colab_type": "code",
        "colab": {}
      },
      "source": [
        "# Map the HTML table for \"cases by country\" into an array of arrays\n",
        "#\n",
        "# Map(function, array) -> Essentially applies a function to each element in an array. We use lambda expressions to create functions.\n",
        "\n",
        "data = list(map(lambda x: list(map(lambda y: y.text, x.select('td, th'))), soup.select('table#main_table_countries_yesterday tr')))"
      ],
      "execution_count": 0,
      "outputs": []
    },
    {
      "cell_type": "code",
      "metadata": {
        "id": "LohtDWAActem",
        "colab_type": "code",
        "colab": {}
      },
      "source": [
        "# Turn array of arrays into a Pandas Dataframe\n",
        "df = pd.DataFrame(data)\n",
        "\n",
        "# Set the column names to the first row\n",
        "df.columns = df.iloc[0]\n",
        "\n",
        "# Delete first row to avoid confusing it as a country\n",
        "df = df.drop(0, axis=0)"
      ],
      "execution_count": 0,
      "outputs": []
    },
    {
      "cell_type": "code",
      "metadata": {
        "id": "LyTUmJ1YdVgG",
        "colab_type": "code",
        "outputId": "95de7b1d-a10b-4d98-c890-7aa5e4002ba1",
        "colab": {
          "base_uri": "https://localhost:8080/",
          "height": 396
        }
      },
      "source": [
        "# Lets have a look at the first ten rows, it should match the website table.\n",
        "\n",
        "df.head(10)"
      ],
      "execution_count": 0,
      "outputs": [
        {
          "output_type": "execute_result",
          "data": {
            "text/html": [
              "<div>\n",
              "<style scoped>\n",
              "    .dataframe tbody tr th:only-of-type {\n",
              "        vertical-align: middle;\n",
              "    }\n",
              "\n",
              "    .dataframe tbody tr th {\n",
              "        vertical-align: top;\n",
              "    }\n",
              "\n",
              "    .dataframe thead th {\n",
              "        text-align: right;\n",
              "    }\n",
              "</style>\n",
              "<table border=\"1\" class=\"dataframe\">\n",
              "  <thead>\n",
              "    <tr style=\"text-align: right;\">\n",
              "      <th></th>\n",
              "      <th>Country,Other</th>\n",
              "      <th>TotalCases</th>\n",
              "      <th>NewCases</th>\n",
              "      <th>TotalDeaths</th>\n",
              "      <th>NewDeaths</th>\n",
              "      <th>TotalRecovered</th>\n",
              "      <th>ActiveCases</th>\n",
              "      <th>Serious,Critical</th>\n",
              "      <th>Tot Cases/1M pop</th>\n",
              "      <th>Tot Deaths/1M pop</th>\n",
              "    </tr>\n",
              "  </thead>\n",
              "  <tbody>\n",
              "    <tr>\n",
              "      <th>1</th>\n",
              "      <td>China</td>\n",
              "      <td>81,218</td>\n",
              "      <td>+47</td>\n",
              "      <td>3,281</td>\n",
              "      <td>+4</td>\n",
              "      <td>73,650</td>\n",
              "      <td>4,287</td>\n",
              "      <td>1,399</td>\n",
              "      <td>56</td>\n",
              "      <td>2</td>\n",
              "    </tr>\n",
              "    <tr>\n",
              "      <th>2</th>\n",
              "      <td>Italy</td>\n",
              "      <td>74,386</td>\n",
              "      <td>+5,210</td>\n",
              "      <td>7,503</td>\n",
              "      <td>+683</td>\n",
              "      <td>9,362</td>\n",
              "      <td>57,521</td>\n",
              "      <td>3,489</td>\n",
              "      <td>1,230</td>\n",
              "      <td>124</td>\n",
              "    </tr>\n",
              "    <tr>\n",
              "      <th>3</th>\n",
              "      <td>USA</td>\n",
              "      <td>68,211</td>\n",
              "      <td>+13,355</td>\n",
              "      <td>1,027</td>\n",
              "      <td>+247</td>\n",
              "      <td>394</td>\n",
              "      <td>66,790</td>\n",
              "      <td>1,452</td>\n",
              "      <td>206</td>\n",
              "      <td>3</td>\n",
              "    </tr>\n",
              "    <tr>\n",
              "      <th>4</th>\n",
              "      <td>Spain</td>\n",
              "      <td>49,515</td>\n",
              "      <td>+7,457</td>\n",
              "      <td>3,647</td>\n",
              "      <td>+656</td>\n",
              "      <td>5,367</td>\n",
              "      <td>40,501</td>\n",
              "      <td>3,166</td>\n",
              "      <td>1,059</td>\n",
              "      <td>78</td>\n",
              "    </tr>\n",
              "    <tr>\n",
              "      <th>5</th>\n",
              "      <td>Germany</td>\n",
              "      <td>37,323</td>\n",
              "      <td>+4,332</td>\n",
              "      <td>206</td>\n",
              "      <td>+47</td>\n",
              "      <td>3,547</td>\n",
              "      <td>33,570</td>\n",
              "      <td>23</td>\n",
              "      <td>445</td>\n",
              "      <td>2</td>\n",
              "    </tr>\n",
              "    <tr>\n",
              "      <th>6</th>\n",
              "      <td>Iran</td>\n",
              "      <td>27,017</td>\n",
              "      <td>+2,206</td>\n",
              "      <td>2,077</td>\n",
              "      <td>+143</td>\n",
              "      <td>9,625</td>\n",
              "      <td>15,315</td>\n",
              "      <td></td>\n",
              "      <td>322</td>\n",
              "      <td>25</td>\n",
              "    </tr>\n",
              "    <tr>\n",
              "      <th>7</th>\n",
              "      <td>France</td>\n",
              "      <td>25,233</td>\n",
              "      <td>+2,929</td>\n",
              "      <td>1,331</td>\n",
              "      <td>+231</td>\n",
              "      <td>3,900</td>\n",
              "      <td>20,002</td>\n",
              "      <td>2,827</td>\n",
              "      <td>387</td>\n",
              "      <td>20</td>\n",
              "    </tr>\n",
              "    <tr>\n",
              "      <th>8</th>\n",
              "      <td>Switzerland</td>\n",
              "      <td>10,897</td>\n",
              "      <td>+1,020</td>\n",
              "      <td>153</td>\n",
              "      <td>+31</td>\n",
              "      <td>131</td>\n",
              "      <td>10,613</td>\n",
              "      <td>141</td>\n",
              "      <td>1,259</td>\n",
              "      <td>18</td>\n",
              "    </tr>\n",
              "    <tr>\n",
              "      <th>9</th>\n",
              "      <td>UK</td>\n",
              "      <td>9,529</td>\n",
              "      <td>+1,452</td>\n",
              "      <td>465</td>\n",
              "      <td>+43</td>\n",
              "      <td>135</td>\n",
              "      <td>8,929</td>\n",
              "      <td>163</td>\n",
              "      <td>140</td>\n",
              "      <td>7</td>\n",
              "    </tr>\n",
              "    <tr>\n",
              "      <th>10</th>\n",
              "      <td>S. Korea</td>\n",
              "      <td>9,137</td>\n",
              "      <td>+100</td>\n",
              "      <td>126</td>\n",
              "      <td>+6</td>\n",
              "      <td>3,730</td>\n",
              "      <td>5,281</td>\n",
              "      <td>59</td>\n",
              "      <td>178</td>\n",
              "      <td>2</td>\n",
              "    </tr>\n",
              "  </tbody>\n",
              "</table>\n",
              "</div>"
            ],
            "text/plain": [
              "0  Country,Other TotalCases  ... Tot Cases/1M pop Tot Deaths/1M pop\n",
              "1          China     81,218  ...               56                 2\n",
              "2          Italy     74,386  ...            1,230               124\n",
              "3            USA     68,211  ...              206                 3\n",
              "4          Spain     49,515  ...            1,059                78\n",
              "5        Germany     37,323  ...              445                 2\n",
              "6           Iran     27,017  ...              322                25\n",
              "7         France     25,233  ...              387                20\n",
              "8    Switzerland     10,897  ...            1,259                18\n",
              "9             UK      9,529  ...              140                 7\n",
              "10      S. Korea      9,137  ...              178                 2\n",
              "\n",
              "[10 rows x 10 columns]"
            ]
          },
          "metadata": {
            "tags": []
          },
          "execution_count": 10
        }
      ]
    },
    {
      "cell_type": "code",
      "metadata": {
        "id": "CN-Bv_nxgDht",
        "colab_type": "code",
        "colab": {}
      },
      "source": [
        "# Finaly, save as a spreadsheet or other file format. It will be in a folder located on the left sidebar.\n",
        "\n",
        "df.to_csv('covid19.csv')"
      ],
      "execution_count": 0,
      "outputs": []
    },
    {
      "cell_type": "markdown",
      "metadata": {
        "id": "H25uxS9rmGYI",
        "colab_type": "text"
      },
      "source": [
        "# Thats it! Now try scraping another website.\n",
        "\n",
        "\n",
        "Wyatt Phillips | [HackWITus Team](https://hackwit.us/)\n",
        "\n",
        "phillipsw1@wit.edu\n",
        "\n",
        "Discord: Wyatt Phillips [Co-op]#7689\n"
      ]
    }
  ]
}